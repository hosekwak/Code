{
 "cells": [
  {
   "cell_type": "markdown",
   "id": "643afac7",
   "metadata": {},
   "source": [
    "정수형"
   ]
  },
  {
   "cell_type": "code",
   "execution_count": 3,
   "id": "4fd11558",
   "metadata": {},
   "outputs": [
    {
     "name": "stdout",
     "output_type": "stream",
     "text": [
      "1000\n",
      "-7\n",
      "0\n"
     ]
    }
   ],
   "source": [
    "a = 1000\n",
    "print(a)\n",
    "\n",
    "a = -7\n",
    "print(a)\n",
    "\n",
    "a = 0\n",
    "print(a)"
   ]
  },
  {
   "cell_type": "code",
   "execution_count": 4,
   "id": "07206ce1",
   "metadata": {},
   "outputs": [
    {
     "name": "stdout",
     "output_type": "stream",
     "text": [
      "157.93\n",
      "-183.4\n",
      "5.0\n",
      "-0.7\n"
     ]
    }
   ],
   "source": [
    "a=157.93\n",
    "print(a)\n",
    "\n",
    "a=-183.4\n",
    "print(a)\n",
    "\n",
    "a=5.\n",
    "print(a)\n",
    "\n",
    "a=-.7\n",
    "print(a)"
   ]
  },
  {
   "cell_type": "code",
   "execution_count": 8,
   "id": "5a3ca598",
   "metadata": {},
   "outputs": [
    {
     "name": "stdout",
     "output_type": "stream",
     "text": [
      "1\n",
      "0.352\n"
     ]
    }
   ],
   "source": [
    "a= int(103e-2)\n",
    "print(a)\n",
    "\n",
    "a=352e-3\n",
    "print(a)"
   ]
  },
  {
   "cell_type": "markdown",
   "id": "7df4234d",
   "metadata": {},
   "source": [
    "실제로 컴퓨터는 이진수 체계이기 때문에 0.3 + 0.6 = 0.9라고 인식하지 않는다다"
   ]
  },
  {
   "cell_type": "code",
   "execution_count": 10,
   "id": "fb319eba",
   "metadata": {},
   "outputs": [
    {
     "name": "stdout",
     "output_type": "stream",
     "text": [
      "0.8999999999999999\n",
      "False\n"
     ]
    }
   ],
   "source": [
    "a = 0.3 + 0.6\n",
    "print (a)\n",
    "\n",
    "if a == 0.9:\n",
    "    print(True)\n",
    "else:\n",
    "    print(False)"
   ]
  },
  {
   "cell_type": "markdown",
   "id": "1e7f6769",
   "metadata": {},
   "source": [
    "- 개발 과정에서 실수 값을 제대로 비교하지 못해서 원하는 결과를 얻지 못할 수 있습니다.\n",
    "- 이럴 때는 round()함수를 이용할 수 있다. \n",
    "소수 3째 자리에서 반올림림\n",
    "예를 들어 123.456 -> round(123.456 , 2) -> 123.46\n"
   ]
  },
  {
   "cell_type": "code",
   "execution_count": 33,
   "id": "6773a3bb",
   "metadata": {},
   "outputs": [
    {
     "name": "stdout",
     "output_type": "stream",
     "text": [
      "0.9\n",
      "True\n"
     ]
    }
   ],
   "source": [
    "a = 0.3 + 0.6\n",
    "print (round(a,3))\n",
    "\n",
    "if round(a,3) == 0.9:\n",
    "    print(True)\n",
    "else:\n",
    "    print(False)"
   ]
  },
  {
   "cell_type": "markdown",
   "id": "e1831d6e",
   "metadata": {},
   "source": [
    "수 자료형에 대하여 사칙연산과 나머지 연산자가 많이 사용됩니다.\n",
    "\n",
    "    -단 나누기 연산자(/)를 주의해서 사용해야 한다\n",
    "        -파이썬에서 나누기 연산자는 나눠진 결과를 실수형으로 반환\n",
    "\n",
    "    -다양한 로직을 설계할 때 나머지연산자(%)를 이용\n",
    "\n",
    "    -파이썬에서는 몫을 얻기 위해 몫 연산자(//)를 사용합니다\n",
    "\n",
    "    -이외에도 거듭 제곱 연산자(**)를 비롯해 다양한 연산자"
   ]
  },
  {
   "cell_type": "markdown",
   "id": "602fc4cd",
   "metadata": {},
   "source": [
    "리스트 자료형\n",
    "\n",
    "여러 개의 데이터를 연속적으로 담아 처리하기 위해 사용하는 자료형입니다.\n",
    "    - 사용자 입장에서 C나 자바에서의 배열의 기능 및 연결 리스트와 유사한 기능을 지원한다\n",
    "    - C++의 STL vector와 기능적으로 유사합니다.\n",
    "    -리스트 대신에 배열 혹은 테이블이라고 부르기도 합니다.\n",
    "\n",
    "\n",
    "리스트 초기화\n",
    "    -리스트는 대괄호 안에 원소를 넣어 초기화, 쉽표로 원소를 구분\n",
    "    -비어 있는 리스트를 선언하고자 할 때는 list() 혹은 간단히 []를 이용할 수 있다\n",
    "    -리스트의 원소에 접근할 때는 인덱스 값을 괄호에 넣는다다"
   ]
  },
  {
   "cell_type": "code",
   "execution_count": 35,
   "id": "ee9d70ff",
   "metadata": {},
   "outputs": [
    {
     "name": "stdout",
     "output_type": "stream",
     "text": [
      "[1, 2, 3, 4, 5, 6, 7, 8, 9]\n",
      "4\n",
      "[0, 0, 0, 0, 0, 0, 0, 0]\n"
     ]
    }
   ],
   "source": [
    "a = [1,2,3,4,5,6,7,8,9]\n",
    "print(a)\n",
    "\n",
    "print (a[3])\n",
    "\n",
    "# 크기가 N이고 , 모든 값이 0인 리스트 초기화화\n",
    "n = 8\n",
    "a = [0] * n\n",
    "print(a)"
   ]
  },
  {
   "cell_type": "markdown",
   "id": "1bc04944",
   "metadata": {},
   "source": [
    "리스트의 인덱싱과 슬라이싱\n",
    "    - 인덱스 값을 입력하여 리스트의 특정한 원소에 접근하는 것을 인덱싱이라고 합니다\n",
    "        -파이썬의 인덱스 값은 양의 정수와 음의 정수를 모두 사용할 수 있다\n",
    "        - 음의 정수를 넣으면 원소를 거꾸로 탐색하세 됩니다"
   ]
  },
  {
   "cell_type": "code",
   "execution_count": 23,
   "id": "9c9c39af",
   "metadata": {},
   "outputs": [
    {
     "name": "stdout",
     "output_type": "stream",
     "text": [
      "8\n",
      "9\n",
      "7\n",
      "[1, 2, 3, 7, 5, 6, 7, 8, 9]\n"
     ]
    }
   ],
   "source": [
    "a=[1,2,3,4,5,6,7,8,9]\n",
    "\n",
    "print (a[7])\n",
    "\n",
    "print(a[-1])\n",
    "\n",
    "print(a[-3])\n",
    "\n",
    "a[3] = 7\n",
    "print(a)\n"
   ]
  },
  {
   "cell_type": "markdown",
   "id": "281f5390",
   "metadata": {},
   "source": [
    "리스트에서 연속적인 위치를 갖는 원소들을 가져와야 할 때는 슬라이싱을 이용합니다\n",
    "    - 대괄호 안에 콜론(:)을 넣어서 시작 인덱스와 끝 인덱스를 설정\n",
    "    - 끝 인덱스는 실제 인덱스보다 1을 더 크게 설정합니다"
   ]
  },
  {
   "cell_type": "code",
   "execution_count": 24,
   "id": "9b6626df",
   "metadata": {},
   "outputs": [
    {
     "name": "stdout",
     "output_type": "stream",
     "text": [
      "4\n",
      "[2, 3, 4]\n"
     ]
    }
   ],
   "source": [
    "a = [1,2,3,4,5,6,7,8,9]\n",
    "\n",
    "print(a[3])\n",
    "\n",
    "print(a[1:4])"
   ]
  },
  {
   "cell_type": "markdown",
   "id": "f823f147",
   "metadata": {},
   "source": [
    "리스트 컴프리헨션\n",
    "    - 리스트를 초기화하는 방법 중 하나입니다\n",
    "        - 대괄호 안에 조건문과 반복문을 적용하여 리스트를 초기화 할 수 있습니다\n",
    "    "
   ]
  },
  {
   "cell_type": "code",
   "execution_count": null,
   "id": "24086805",
   "metadata": {},
   "outputs": [
    {
     "name": "stdout",
     "output_type": "stream",
     "text": [
      "[0, 1, 2, 3, 4, 5, 6, 7, 8, 9]\n"
     ]
    }
   ],
   "source": [
    "#반복문 부터 넣으세요으세요\n",
    "array = [i for i in range(10)]\n",
    "print(array)"
   ]
  },
  {
   "cell_type": "code",
   "execution_count": 28,
   "id": "e3f320b4",
   "metadata": {},
   "outputs": [
    {
     "name": "stdout",
     "output_type": "stream",
     "text": [
      "[1, 3, 5, 7, 9, 11, 13, 15, 17, 19]\n",
      "[1, 4, 9, 16, 25, 36, 49, 64, 81]\n"
     ]
    }
   ],
   "source": [
    "# 0부터 19까지의 수 중에서 홀수만 포함하는 리스트\n",
    "array = [i for i in range(20) if i % 2 == 1]\n",
    "print(array)\n",
    "\n",
    "#1부터 9까지의 수들의 제곱 값을 포함하는 리스트\n",
    "array = [ i * i for i in range(1,10)]\n",
    "print(array)"
   ]
  },
  {
   "cell_type": "markdown",
   "id": "768e0b60",
   "metadata": {},
   "source": [
    "리스트 컴프리헨션은 2차원 리스트를 초기화할 때 효과적으로 사용될 수 있습니다\n",
    "    - 특히 N X M 크기의 2차원 리스트를 한 번에 초기화 해야 할 때 매우 유용합니다.\n",
    "        - array = [[0]*m for _in range(n) ] \n",
    "        - 길이가 m인 배열을 n번 반복 -> 2차원 배열 생성\n",
    "\n",
    "    - 만약 2차원 리스트를 초기화할 때 당므과 같이 작성하면 예기치 않은 결과가 나올 수 있습니다\n",
    "    - array = [[0]*m] * n\n",
    "    - 위 코드는 전체 리스트 안에 포함된 각 리스트가 모두 같은 객체로 인식된다"
   ]
  },
  {
   "cell_type": "code",
   "execution_count": null,
   "id": "cc0add3c",
   "metadata": {},
   "outputs": [
    {
     "name": "stdout",
     "output_type": "stream",
     "text": [
      "[[0, 0, 0], [0, 0, 0], [0, 0, 0], [0, 0, 0]]\n"
     ]
    }
   ],
   "source": [
    "n = 4\n",
    "m =3\n",
    "\n",
    "array = [[0] * m  for _ in range(n)]\n",
    "# for _ 는 변수를 안 쓸 때 관용적으로 쓰는 이름이다\n",
    "print(array)"
   ]
  },
  {
   "cell_type": "code",
   "execution_count": null,
   "id": "8636fec6",
   "metadata": {},
   "outputs": [
    {
     "name": "stdout",
     "output_type": "stream",
     "text": [
      "[[0, 0, 0], [0, 0, 0], [0, 0, 0], [0, 0, 0]]\n",
      "[[0, 5, 0], [0, 5, 0], [0, 5, 0], [0, 5, 0]]\n"
     ]
    }
   ],
   "source": [
    "#초기화를 이런식으로 하게 되면 [0] * m 을 하나의 객체로 인식 할 수 있다.\n",
    "n = 4\n",
    "m = 3\n",
    "array = [[0] * m ] * n\n",
    "print(array)\n",
    "\n",
    "array[1][1] = 5\n",
    "print(array)"
   ]
  },
  {
   "cell_type": "markdown",
   "id": "0877fc9d",
   "metadata": {},
   "source": [
    "파이썬에서는 반복을 수행 하되 반복을 위한 변수의 값을 무시하고자 할 때 언더바(_)를 자주 사용한다"
   ]
  },
  {
   "cell_type": "markdown",
   "id": "2c0a433d",
   "metadata": {},
   "source": [
    "리스트 관련 메서드\n",
    "- append() \n",
    "    - 리스트에 원소를 하나 삽입할 때 사용한다. O(1) 가장 뒤쪽에\n",
    "\n",
    "- sort() \n",
    "    -변수명.sort() - 오름차순 정렬\n",
    "    -변수명.sort(reverse = True) - 내림차순으로 정렬\n",
    "\n",
    "- reverse()\n",
    "    - 변수명.reverse() 리스트의 원소의 순서를 모두 뒤집어 놓는다.\n",
    "\n",
    "- insert()\n",
    "    - insert(삽입할 위치 인덱스, 삽입할 값)\n",
    "    - 특정한 인덱스 위치에 원소를 삽입할 때 사용한다.\n",
    "\n",
    "- count()\n",
    "    -변수명.count(특정 값)\n",
    "    -리스트에 특정한 값을 가지는 데이터의 개수를 셀 때 사용한다\n",
    "\n",
    "- remove()\n",
    "    - 변수명.remove(특정 값)\n",
    "    - 특정한 값을 갖는 원소를 제거하는데 , 값을 가진 원소가 여러 개면 하나만 제거한다."
   ]
  },
  {
   "cell_type": "code",
   "execution_count": 31,
   "id": "d04a6e1e",
   "metadata": {},
   "outputs": [
    {
     "name": "stdout",
     "output_type": "stream",
     "text": [
      "기본 리스트:  [1, 4, 3]\n",
      "기본리스트:  [1, 4, 3, 2]\n",
      "오름차순순:  [1, 2, 3, 4]\n",
      "내림차순:  [4, 3, 2, 1]\n"
     ]
    }
   ],
   "source": [
    "a=[1,4,3]\n",
    "print(\"기본 리스트: \",a)\n",
    "\n",
    "a.append(2)\n",
    "print(\"기본리스트: \",a)\n",
    "\n",
    "a.sort()\n",
    "print(\"오름차순순: \", a)\n",
    "\n",
    "a.sort(reverse=True)\n",
    "print(\"내림차순: \",a)"
   ]
  },
  {
   "cell_type": "code",
   "execution_count": 32,
   "id": "be1ecef2",
   "metadata": {},
   "outputs": [
    {
     "name": "stdout",
     "output_type": "stream",
     "text": [
      "[1, 2, 4]\n"
     ]
    }
   ],
   "source": [
    "#리스트에서 특정 값을 가지는 원소를 모두 제거하기\n",
    "\n",
    "a=[1,2,3,4,5,5,5]\n",
    "remove_set = {3,5}\n",
    "\n",
    "result = [i for i in a if i not in remove_set]\n",
    "print(result)"
   ]
  }
 ],
 "metadata": {
  "kernelspec": {
   "display_name": "Python 3",
   "language": "python",
   "name": "python3"
  },
  "language_info": {
   "codemirror_mode": {
    "name": "ipython",
    "version": 3
   },
   "file_extension": ".py",
   "mimetype": "text/x-python",
   "name": "python",
   "nbconvert_exporter": "python",
   "pygments_lexer": "ipython3",
   "version": "3.13.2"
  }
 },
 "nbformat": 4,
 "nbformat_minor": 5
}
